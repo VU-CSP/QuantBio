{
 "cells": [
  {
   "cell_type": "markdown",
   "metadata": {
    "id": "OrDdrqdrefmB"
   },
   "source": [
    "# Python Tutorial for Cell Segmentation and smFISH\n",
    "### Modified from original code from the Q-Bio Summer School\n",
    "\n",
    "```\n",
    "https://colab.research.google.com/drive/1o3JJE4EjfW9P5ZITEeS5p8Ui60xV3etK?usp=sharing\n",
    "\n",
    "Copyright (c) 2022 Dr. Brian Munsky. \n",
    "Dr. Luis Aguilera, Will Raymond\n",
    "Colorado State University.\n",
    "Licensed under BSD-3-Clause license.\n",
    "```\n",
    "\n"
   ]
  },
  {
   "cell_type": "markdown",
   "metadata": {
    "id": "FiskOfmuh3kB"
   },
   "source": [
    "# Abstract \n",
    "\n",
    "In this notebook, we will talk about single-cell segmentation using Python. Basic image manipulation in Python can be reviewed here:  [![Open In Colab](https://colab.research.google.com/assets/colab-badge.svg)](https://colab.research.google.com/drive/1cOzLyKrKznlc2olymshHeQMalCG9IydW?usp=sharing).  \n",
    "\n",
    "In this tutorial, our goal is introduce the basics of single-cell segmentation. \n",
    "\n",
    "## List of objectives\n",
    "\n",
    "1. Understand and explain the more common methods used to segment cells from microscope images.\n",
    "2. Understand and explain what a segmentation mask is.\n",
    "3. Understand and explain segmentation methods based on threshold selection.\n",
    "4. Perform single-cell segmentation using machine learning based methods. \n"
   ]
  },
  {
   "cell_type": "markdown",
   "metadata": {
    "id": "myDW1oXaI6eQ"
   },
   "source": [
    "<img src= https://github.com/MunskyGroup/uqbio2022/raw/master/files/files_image_processing/module_1_2/images/Slide2.png alt=\"drawing\" width=\"1200\"/>"
   ]
  },
  {
   "cell_type": "markdown",
   "metadata": {
    "id": "aLR44_1zI_EI"
   },
   "source": [
    "<img src= https://github.com/MunskyGroup/uqbio2022/raw/master/files/files_image_processing/module_1_2/images/Slide3.png alt=\"drawing\" width=\"1200\"/>"
   ]
  },
  {
   "cell_type": "markdown",
   "metadata": {
    "id": "7NI7-7PeJGFX"
   },
   "source": [
    "<img src= https://github.com/MunskyGroup/uqbio2022/raw/master/files/files_image_processing/module_1_2/images/Slide4.png alt=\"drawing\" width=\"1200\"/>"
   ]
  },
  {
   "cell_type": "markdown",
   "metadata": {
    "id": "rD8MWhHDPngt"
   },
   "source": [
    "### Do it by hand\n",
    "Using software such as [ImageJ/FIJI](https://imagej.nih.gov/ij/), [Napari](https://napari.org) or even something like Microsoft Paint, one can manually outline cells. This is cumbersome and impractical for processing thousands of cells over time. "
   ]
  },
  {
   "cell_type": "markdown",
   "metadata": {
    "id": "DTzoxtM5JQrU"
   },
   "source": [
    "<img src= https://github.com/MunskyGroup/uqbio2022/raw/master/files/files_image_processing/module_1_2/images/Slide5.png alt=\"drawing\" width=\"1200\"/>"
   ]
  },
  {
   "cell_type": "markdown",
   "metadata": {
    "id": "bwOmK0TNuMNh"
   },
   "source": [
    "\n",
    "\n",
    "Check this tool ([makesense](https://www.makesense.ai)) to create your own masks.\n",
    "\n",
    "\n"
   ]
  },
  {
   "cell_type": "markdown",
   "metadata": {
    "id": "uPtmi1A99Bj-"
   },
   "source": [
    "You can find some images in the following [link](https://www.dropbox.com/s/d9my4cp2j3ven04/test_data_uqbio2022.zip?dl=0)"
   ]
  },
  {
   "cell_type": "markdown",
   "metadata": {
    "id": "_yV1XbVUemLL"
   },
   "source": [
    "# Getting started with segmentation using thresholding"
   ]
  },
  {
   "cell_type": "markdown",
   "metadata": {
    "id": "mvSjR9G263Lu"
   },
   "source": [
    "\n",
    "### Watershed Methods\n",
    "The scikit-image library has an excellent tutorial on [watershed methods](https://scikit-image.org/docs/dev/auto_examples/segmentation/plot_watershed.html). Popular tools that apply such methods to single cells are:\n",
    "* [CellStar](http://cellstar-algorithm.org) (Matlab, Python, CellProfiler PlugIn)\n",
    "* [FogBank](https://bmcbioinformatics.biomedcentral.com/articles/10.1186/s12859-014-0431-x#additional-information) (Matlab)"
   ]
  },
  {
   "cell_type": "markdown",
   "metadata": {
    "id": "VkxfpjV7JLk4"
   },
   "source": [
    "<img src= https://github.com/MunskyGroup/uqbio2022/raw/master/files/files_image_processing/module_1_2/images/Slide6.png alt=\"drawing\" width=\"1200\"/>"
   ]
  },
  {
   "cell_type": "code",
   "execution_count": null,
   "metadata": {
    "id": "h4sEg4oNqF7m"
   },
   "outputs": [],
   "source": [
    "#%%capture\n",
    "# Loading libraries\n",
    "import random                        # Library to generate random numbers\n",
    "import skimage                       # Library for image manipulation\n",
    "import numpy as np                   # Library for array manipulation\n",
    "import urllib.request                # Library to download data\n",
    "import matplotlib.pyplot as plt      # Library used for plotting\n",
    "from skimage import io               # Module from skimage\n",
    "from skimage.io import imread        # Module from skimage to read images as numpy arrays\n",
    "from skimage.filters import gaussian # Module working with a gaussian filter\n",
    "import os                            # Module for file manipulation on different operating systems\n",
    "%matplotlib inline"
   ]
  },
  {
   "cell_type": "code",
   "execution_count": null,
   "metadata": {
    "id": "M6aVVj8nX8to"
   },
   "outputs": [],
   "source": [
    "import matplotlib\n",
    "matplotlib.__version__"
   ]
  },
  {
   "cell_type": "markdown",
   "metadata": {
    "id": "aomp36oZtG76"
   },
   "source": [
    "Let's get started by downloading a sample image of a cell and plotting it using `matplotlib`:\n"
   ]
  },
  {
   "cell_type": "code",
   "execution_count": null,
   "metadata": {
    "id": "xLyKJMqKqQ4k"
   },
   "outputs": [],
   "source": [
    "# Downloading a test image\n",
    "if not os.path.exists('./image_cell.tif'):\n",
    "    !wget -O image_cell.tif https://ndownloader.figshare.com/files/26751209\n",
    "\n",
    "# Loading figure to the notebook\n",
    "images = imread('./image_cell.tif') \n",
    "print('File is accessible as ./image_cell.tif')\n"
   ]
  },
  {
   "cell_type": "code",
   "execution_count": null,
   "metadata": {
    "id": "cDkStCTuxpND"
   },
   "outputs": [],
   "source": [
    "# Explain        figName = './image_cell.tif'   what is our cwd?    #import os #os.getcwd()\n",
    "#random.choice(participants)"
   ]
  },
  {
   "cell_type": "code",
   "execution_count": null,
   "metadata": {
    "id": "DIQDfN7SseSF"
   },
   "outputs": [],
   "source": [
    "# Printing the shape of the image\n",
    "print('Original image shape: ' , images.shape)  # [T,Y,X,C]\n",
    "# Selecting a frame and a color channel\n",
    "img = images[0,:,:,0]\n",
    "print('Single image shape: ' , img.shape)  # [Y,X]"
   ]
  },
  {
   "cell_type": "code",
   "execution_count": null,
   "metadata": {
    "id": "kXYlGZuLyBDq"
   },
   "outputs": [],
   "source": [
    "# Difference  between images and img?\n",
    "#random.choice(participants)"
   ]
  },
  {
   "cell_type": "code",
   "execution_count": null,
   "metadata": {
    "id": "hUdKmu8sK-WO"
   },
   "outputs": [],
   "source": [
    "# Plotting the image as the 3d dimension figure.\n",
    "space= np.arange(0, img.shape[0], 1)\n",
    "xx, yy = np.meshgrid(space,space)\n",
    "fig = plt.figure(figsize=(15,7))\n",
    "# Set up the axes for the first plot\n",
    "ax = fig.add_subplot(1, 2, 1)\n",
    "ax.imshow(img,cmap='Spectral') # Reds_r\n",
    "# Set up the axes for the second plot\n",
    "ax2 = fig.add_subplot(1, 2, 2, projection='3d')\n",
    "ax2.plot_surface(xx, yy , img,  rstride=20, cstride=20, shade=False, cmap='Spectral')\n",
    "ax2.view_init(20, 45)\n",
    "plt.show()"
   ]
  },
  {
   "cell_type": "markdown",
   "metadata": {
    "id": "X4kyOnGit7TY"
   },
   "source": [
    "Recall when we plotted the histogram of the intensity pixels to get a sense of the distribution of pixel intensities throughout the image:"
   ]
  },
  {
   "cell_type": "code",
   "execution_count": null,
   "metadata": {
    "id": "pIdRU5m7t5qI"
   },
   "outputs": [],
   "source": [
    "# Plotting the intensity distribution\n",
    "f, ax = plt.subplots()\n",
    "_ = ax.hist(img.ravel(),color='orangered',bins=35)\n",
    "ax.set_xlabel('pixel')\n",
    "ax.set_ylabel('# of pixels')\n",
    "plt.show()"
   ]
  },
  {
   "cell_type": "code",
   "execution_count": null,
   "metadata": {
    "id": "Kl7nsVhZypXQ"
   },
   "outputs": [],
   "source": [
    "# _ = ax.hist(img.ravel(),color='orangered',bins=35)\n",
    "#random.choice(participants)"
   ]
  },
  {
   "cell_type": "markdown",
   "metadata": {
    "id": "-1z48XCyufes"
   },
   "source": [
    "Based on this image, we can guess a threshold of pixel intensities that are \"cells\" vs \"not cells\". What do you think would make a good threshold?\n",
    "\n",
    "_Modify the cell below and try different thresholds_\n"
   ]
  },
  {
   "cell_type": "code",
   "execution_count": null,
   "metadata": {
    "id": "ZZNHIVJyuUu3"
   },
   "outputs": [],
   "source": [
    "# Thresholding the image\n",
    "threshold = 700   # Please play  with this threshold\n",
    "mask_image = np.zeros(img.shape)\n",
    "mask_image[img>threshold] = 255\n",
    "f,ax = plt.subplots()\n",
    "ax.imshow(mask_image, cmap='Greys')\n",
    "plt.show()"
   ]
  },
  {
   "cell_type": "markdown",
   "metadata": {
    "id": "grjDaogdv3oK"
   },
   "source": [
    "This mask image is useful, especially considering we simply took all of the pixels with a value bigger than `threshold`. \n",
    "\n",
    "However, we know that the outside ought to be more smooth. Let's try applying a Gaussian filter to smooth out the mask image:\n"
   ]
  },
  {
   "cell_type": "code",
   "execution_count": null,
   "metadata": {
    "id": "Cm43XgFcX_jG"
   },
   "outputs": [],
   "source": [
    "# Importing library with the watershed algorithm. \n",
    "from skimage.morphology import binary_dilation, watershed"
   ]
  },
  {
   "cell_type": "code",
   "execution_count": null,
   "metadata": {
    "id": "lzF6Y7hFJ0RY"
   },
   "outputs": [],
   "source": [
    "# Applying a gaussian filter to the image\n",
    "new_mask = gaussian(mask_image, sigma=5) \n",
    "f,ax = plt.subplots()\n",
    "ax.imshow(new_mask, cmap='Greys')\n",
    "plt.plot()"
   ]
  },
  {
   "cell_type": "code",
   "execution_count": null,
   "metadata": {
    "id": "X1e-1l96YSHq"
   },
   "outputs": [],
   "source": [
    "# Importing a library to find contours in the image\n",
    "from skimage import measure"
   ]
  },
  {
   "cell_type": "code",
   "execution_count": null,
   "metadata": {
    "id": "umZNGAcpnyBc"
   },
   "outputs": [],
   "source": [
    "# Plotting all contours detected in the filtered image\n",
    "f,ax = plt.subplots()\n",
    "contours = measure.find_contours(new_mask, level=125 ) # level is half of 255 (ish). What happens if we change it?\n",
    "ax.imshow(new_mask, cmap='Greys')\n",
    "for contour in contours:\n",
    "  ax.plot(contour[:,1],contour[:,0],color='r')"
   ]
  },
  {
   "cell_type": "code",
   "execution_count": null,
   "metadata": {
    "id": "LsPgscPyTV2x"
   },
   "outputs": [],
   "source": [
    "#help(measure.find_contours)"
   ]
  },
  {
   "cell_type": "code",
   "execution_count": null,
   "metadata": {
    "id": "7nbFhRs0O0X2"
   },
   "outputs": [],
   "source": [
    "# Plotting the countour on top of the original image\n",
    "img = images[0,:,:,0]\n",
    "f,ax = plt.subplots()\n",
    "ax.imshow(img, cmap='Greys')\n",
    "for contour in contours:\n",
    "  ax.plot(contour[:,1],contour[:,0],'r')"
   ]
  },
  {
   "cell_type": "markdown",
   "metadata": {
    "id": "mYTvmKbHxNkO"
   },
   "source": [
    "So far so good. By setting `threshold=700` we were able to find the \"main\" cell in the image. But what happens when we want to get all three? Let's start by lowering the threshold to  300 and running the code. "
   ]
  },
  {
   "cell_type": "code",
   "execution_count": null,
   "metadata": {
    "id": "GrfLV6F1ybeQ"
   },
   "outputs": [],
   "source": [
    "# Thresholding with a lower value\n",
    "threshold = 300\n",
    "mask_image = np.zeros(img.shape)\n",
    "mask_image[img>threshold] = 255\n",
    "new_mask = gaussian(mask_image, sigma=4) # applaying the gaussian filter\n",
    "contours = measure.find_contours(new_mask, level=125, fully_connected='high') # Finding the contours in the image\n",
    "img = images[0,:,:,0]\n",
    "\n",
    "#  Plotting the  contour detected on top of the original image\n",
    "f,ax = plt.subplots()\n",
    "ax.imshow(img, cmap='Spectral')\n",
    "contours_connected = np.vstack((contours))\n",
    "print(contours_connected.shape)\n",
    "for contour in contours:\n",
    "  ax.plot(contour[:,1],contour[:,0],'-b',lw=8)\n",
    "\n",
    "# Connecting the last and first  elements in the array (contours) to get a fully connected shape\n",
    "contours_connected = np.vstack((contours_connected[-1,:],contours_connected))\n",
    "print(contours_connected.shape)\n",
    "\n",
    "# Plotting\n",
    "ax.plot(contours_connected[:,1],contours_connected[:,0],'y',lw=3)\n",
    "plt.show()"
   ]
  },
  {
   "cell_type": "markdown",
   "metadata": {
    "id": "aAAHGObey5df"
   },
   "source": [
    "_it looks like a crab_ !\n",
    "\n",
    "\n",
    "In the cell below, we will try to take the connected image below and use a [watershed algorithm](https://en.wikipedia.org/wiki/Watershed_(image_processing) to break it into 3 distinct cells. "
   ]
  },
  {
   "cell_type": "code",
   "execution_count": null,
   "metadata": {
    "id": "2eRhQg28bWbF"
   },
   "outputs": [],
   "source": [
    "# importing a library to convert contours into shapes.\n",
    "from skimage.draw import polygon"
   ]
  },
  {
   "cell_type": "code",
   "execution_count": null,
   "metadata": {
    "id": "gfxyAEnNzCJM"
   },
   "outputs": [],
   "source": [
    "# make a new mask from the contours array\n",
    "watershed_starting_mask = np.zeros(img.shape).astype(int)                    # Prealocating an array with zeros. Notice the datatype.\n",
    "rr, cc = polygon(contours_connected[:,0], contours_connected[:,1])   # Returns the coordinates inside the contour\n",
    "watershed_starting_mask[rr,cc] = 1                                           # Replacing all values inside the contour with ones.\n",
    "\n",
    "# Plotting the mask \n",
    "f,ax = plt.subplots()\n",
    "ax.imshow(watershed_starting_mask, cmap='Greys_r')\n",
    "plt.show()\n",
    "\n",
    "# Printing the minimum and maximum values in the image\n",
    "print('min value in mask: ', np.min(watershed_starting_mask) )\n",
    "print('max value in mask: ', np.max(watershed_starting_mask) )"
   ]
  },
  {
   "cell_type": "code",
   "execution_count": null,
   "metadata": {
    "id": "1TqT2b950UT6"
   },
   "outputs": [],
   "source": [
    "#watershed_starting_mask = np.zeros(img.shape).astype(int)                    # Prealocating an array with zeros. Notice the datatype.\n",
    "#random.choice(participants)"
   ]
  },
  {
   "cell_type": "code",
   "execution_count": null,
   "metadata": {
    "id": "GzGw_zsccpmx"
   },
   "outputs": [],
   "source": [
    "# Importing libraries with the watershed algorithm and local maximum detection\n",
    "from scipy import ndimage as ndi              # Distance Transform\n",
    "from skimage.feature import peak_local_max    # Local maxima in a matrix\n",
    "from skimage.segmentation import watershed    # Watershed algorithm"
   ]
  },
  {
   "cell_type": "markdown",
   "metadata": {
    "id": "JAaH0cmFfjJc"
   },
   "source": [
    "To find more information about the specific method use\n",
    "\n",
    "```\n",
    "help(watershed)\n",
    "```\n",
    "\n"
   ]
  },
  {
   "cell_type": "markdown",
   "metadata": {
    "id": "Q_wgirknvBzR"
   },
   "source": [
    "### Distance transform"
   ]
  },
  {
   "cell_type": "markdown",
   "metadata": {
    "id": "U0Zhv2jQeoo-"
   },
   "source": [
    "\n",
    "\n",
    "\"The distance transform computes the distance between each pixel and the nearest zero/nonzero pixel.\" An example with code implementation is accessible in this [link](https://www.youtube.com/watch?v=oxWfLTQoC5A).\n",
    "\n",
    "For more infromation about the distance transform check this [link](https://homepages.inf.ed.ac.uk/rbf/HIPR2/distance.htm)\n",
    "\n",
    "<img src= https://homepages.inf.ed.ac.uk/rbf/HIPR2/figs/distance.gif alt=\"drawing\" width=\"600\"/>\n",
    "\n"
   ]
  },
  {
   "cell_type": "markdown",
   "metadata": {
    "id": "zh4vWShjwLVY"
   },
   "source": [
    "By  using the distance transform we can find basins in the center of each cell."
   ]
  },
  {
   "cell_type": "code",
   "execution_count": null,
   "metadata": {
    "id": "rl3Zuqwbo_ca"
   },
   "outputs": [],
   "source": [
    "# Computes the Distance Transform distance in the image\n",
    "distance = -ndi.distance_transform_edt(watershed_starting_mask)                       \n",
    "\n",
    "# Plotting the image as the 3d dimension figure.\n",
    "space= np.arange(0, distance.shape[0], 1)\n",
    "xx, yy = np.meshgrid(space,space)\n",
    "fig = plt.figure(figsize=(15,7))\n",
    "# Set up the axes for the first plot\n",
    "ax = fig.add_subplot(1, 2, 1)\n",
    "ax.imshow(distance,cmap='Spectral') # Reds_r\n",
    "# Set up the axes for the second plot\n",
    "ax2 = fig.add_subplot(1, 2, 2, projection='3d')\n",
    "ax2.plot_surface(xx, yy , distance,  rstride=5, cstride=5, shade=False, cmap='Spectral')\n",
    "#ax2.view_init(30, 45)\n",
    "plt.show()"
   ]
  },
  {
   "cell_type": "code",
   "execution_count": null,
   "metadata": {
    "id": "0JWMuqfO0nnE"
   },
   "outputs": [],
   "source": [
    "# Apply watershed\n",
    "distance = ndi.distance_transform_edt(watershed_starting_mask)                       # Computes the Distance Transform distance in the image\n",
    "coords = peak_local_max(distance, min_distance=50, labels=watershed_starting_mask)   # Use the Distance transform image to find local maxima\n",
    "_,inds = np.unique(distance[coords[:,0],coords[:,1]],return_index=True)      # Make sure they are unique\n",
    "coords = coords[inds,:]                                                      # Selecting unique indexes\n",
    "mask = np.zeros(distance.shape, dtype=bool)                                  # Prealocating an array with zeros\n",
    "mask[tuple(coords.T)] = True                                                 # Make an image with 1's where local maxima are\n",
    "markers, _ = ndi.label(mask)                                                 # Unique values used as the desired labels\n",
    "\n",
    "# Using the watershed algorithm\n",
    "labels = watershed(-distance, markers, mask=watershed_starting_mask, watershed_line=True)  #Why do we need to use the negative of the distance matrix?\n",
    "\n",
    "# Plotting the results\n",
    "f,ax = plt.subplots(1,5, figsize=(15,7))\n",
    "ax[0].imshow(img, cmap='Spectral')\n",
    "ax[0].set_title('origninal')\n",
    "ax[1].imshow(watershed_starting_mask, cmap='Greys_r')\n",
    "ax[1].set_title('Mask')\n",
    "ax[2].imshow(ndi.distance_transform_edt(watershed_starting_mask), cmap='Greys')\n",
    "ax[2].set_title('Distance Transform')\n",
    "ax[3].imshow(ndi.distance_transform_edt(watershed_starting_mask), cmap='Greys')\n",
    "ax[3].scatter(coords[:,1],coords[:,0],c='r')\n",
    "ax[3].set_title('Local Maxima in Dist. Transform')\n",
    "ax[4].imshow(labels, cmap='Spectral')\n",
    "ax[4].set_title('Masks with Labels')\n",
    "f.tight_layout() "
   ]
  },
  {
   "cell_type": "code",
   "execution_count": null,
   "metadata": {
    "id": "mpmgAXnRVaxE"
   },
   "outputs": [],
   "source": [
    "np.unique(labels)"
   ]
  },
  {
   "cell_type": "code",
   "execution_count": null,
   "metadata": {
    "id": "dACTDNmfVpfA"
   },
   "outputs": [],
   "source": [
    "#plt.imshow(labels[100:300,100:300])"
   ]
  },
  {
   "cell_type": "code",
   "execution_count": null,
   "metadata": {
    "id": "BT1A0YVTzbpv"
   },
   "outputs": [],
   "source": [
    "# Why do we need to use the negative of the distance matrix?\n",
    "#random.choice(participants)"
   ]
  },
  {
   "cell_type": "code",
   "execution_count": null,
   "metadata": {
    "id": "Q8rt34BKqFoG"
   },
   "outputs": [],
   "source": [
    "#help(watershed)"
   ]
  },
  {
   "cell_type": "markdown",
   "metadata": {
    "id": "qy5Eyw_MDs5N"
   },
   "source": [
    "# Machine Learning Methods\n",
    "\n",
    "\n",
    "\n"
   ]
  },
  {
   "cell_type": "markdown",
   "metadata": {
    "id": "IBQyNhDd6L_G"
   },
   "source": [
    "* Please notice that a complete tutorial on Machine Learning will be given on June 7 by Will Raymond."
   ]
  },
  {
   "cell_type": "markdown",
   "metadata": {
    "id": "vdBaFKmTPw0U"
   },
   "source": [
    "\n",
    "In recent years, deep learning methods have rapidly improved the state of the art for cell segmentation methods. We will come back to the theory on this topic - for now, we will demonstrate a couple of ML-based tools that can be used to segment images. If you are keen to get started learning about how the popular U-Net model works, check out [this video](https://www.youtube.com/watch?v=azM57JuQpQI) and/or [this video](https://www.youtube.com/watch?v=4ZZjr6SFBV8).\n"
   ]
  },
  {
   "cell_type": "markdown",
   "metadata": {
    "id": "sstoTPZeJxHU"
   },
   "source": [
    "<img src= https://github.com/MunskyGroup/uqbio2022/raw/master/files/files_image_processing/module_1_2/images/Slide7.png alt=\"drawing\" width=\"1200\"/>"
   ]
  },
  {
   "cell_type": "markdown",
   "metadata": {
    "id": "aMmVUDgaJzN0"
   },
   "source": [
    "<img src= https://github.com/MunskyGroup/uqbio2022/raw/master/files/files_image_processing/module_1_2/images/Slide8.png alt=\"drawing\" width=\"1200\"/>"
   ]
  },
  {
   "cell_type": "markdown",
   "metadata": {
    "id": "gQePLbzu7AWT"
   },
   "source": [
    "[Unet code implementation](https://github.com/zhixuhao/unet)."
   ]
  },
  {
   "cell_type": "markdown",
   "metadata": {
    "id": "3EBOYrRPgD8g"
   },
   "source": [
    "## Segment yeast brightfield images using U-Net"
   ]
  },
  {
   "cell_type": "code",
   "execution_count": null,
   "metadata": {
    "id": "SKAsWWEBXpuN"
   },
   "outputs": [],
   "source": [
    "%%capture\n",
    "# Downloading and cloning micromator repository\n",
    "%cd gdrive/MyDrive/\n",
    "! git clone https://gitlab.inria.fr/InBio/Public/micromator.git\n",
    "! pip install pims\n",
    "! pip install trackpy\n",
    "%cd micromator"
   ]
  },
  {
   "cell_type": "code",
   "execution_count": null,
   "metadata": {
    "id": "3S6_NYSxzxrK"
   },
   "outputs": [],
   "source": [
    "# Explain the previous code\n",
    "#random.choice(participants)"
   ]
  },
  {
   "cell_type": "code",
   "execution_count": null,
   "metadata": {
    "id": "TzrqB0wfaQy5"
   },
   "outputs": [],
   "source": [
    "%%capture\n",
    "# Importing modules from micromator\n",
    "from micromator.segmator import seg_mator"
   ]
  },
  {
   "cell_type": "code",
   "execution_count": null,
   "metadata": {
    "id": "_NU2fqxzopgv"
   },
   "outputs": [],
   "source": [
    "# Downloading a test image\n",
    "# yeast_image = sk.io.imread('../drive/MyDrive/binned_img_51_BF.tif')\n",
    "urls = ['https://github.com/MunskyGroup/uqbio2021/raw/main/module_1/images/binned_img_65_BF.tif']\n",
    "print('Downloading file...')\n",
    "urllib.request.urlretrieve(urls[0],'./binned_img_65_BF.tif')"
   ]
  },
  {
   "cell_type": "code",
   "execution_count": null,
   "metadata": {
    "id": "F0uT_3mSVdoa"
   },
   "outputs": [],
   "source": [
    "# Loading the brightfield image\n",
    "yeast_image = imread('./binned_img_65_BF.tif')\n",
    "print(yeast_image.shape)"
   ]
  },
  {
   "cell_type": "code",
   "execution_count": null,
   "metadata": {
    "id": "BrPKkROqNDVg"
   },
   "outputs": [],
   "source": [
    "# Plotting the brightfield image\n",
    "f, ax = plt.subplots() \n",
    "ax.imshow(yeast_image[600:800,50:250], cmap='Greys')\n",
    "plt.show()"
   ]
  },
  {
   "cell_type": "code",
   "execution_count": null,
   "metadata": {
    "id": "IMpaKFa7ZLm-"
   },
   "outputs": [],
   "source": [
    "%%capture\n",
    "# Initializing micromator\n",
    "sm = seg_mator.SegMator('', '', 'segmator/models/unet_yeast_seg_new_v3.hdf5', '.',input_size=(1024,1024,1))"
   ]
  },
  {
   "cell_type": "code",
   "execution_count": null,
   "metadata": {
    "id": "NkCgYbE-1K9g"
   },
   "outputs": [],
   "source": [
    "#help(seg_mator.SegMator)"
   ]
  },
  {
   "cell_type": "code",
   "execution_count": null,
   "metadata": {
    "id": "I7iUmuyjYgTg"
   },
   "outputs": [],
   "source": [
    "# Applying the unet method to our image\n",
    "image, mask, contours = sm.segment_single_frame(yeast_image, target_size=(1024,1024))"
   ]
  },
  {
   "cell_type": "code",
   "execution_count": null,
   "metadata": {
    "id": "ltVINV9Z2FNM"
   },
   "outputs": [],
   "source": [
    "# Explain the outputs ----> image, mask, contours \n",
    "#random.choice(participants)"
   ]
  },
  {
   "cell_type": "code",
   "execution_count": null,
   "metadata": {
    "id": "S3sZMdYKYinW"
   },
   "outputs": [],
   "source": [
    "# Plotting the original image and mask\n",
    "f,ax = plt.subplots(1,2)\n",
    "ax[0].imshow(image[600:800,50:250],cmap='Greys')\n",
    "ax[1].imshow(mask[600:800,50:250],cmap='Greys')\n",
    "plt.show()"
   ]
  },
  {
   "cell_type": "code",
   "execution_count": null,
   "metadata": {
    "id": "my6GVtlKT_Fz"
   },
   "outputs": [],
   "source": [
    "# Plotting a single contour\n",
    "f,ax = plt.subplots()\n",
    "ax.plot(contours[5][:,1],contours[5][:,0])\n",
    "plt.show()"
   ]
  },
  {
   "cell_type": "code",
   "execution_count": null,
   "metadata": {
    "id": "DRY1Q_XAVjbb"
   },
   "outputs": [],
   "source": [
    "# Plotting a mask for a single cell\n",
    "contour = contours[300]\n",
    "single_cell_mask = np.zeros(image.shape)\n",
    "rr, cc = polygon(contour[:,0], contour[:,1])\n",
    "single_cell_mask[rr,cc] = 1\n",
    "f,ax = plt.subplots()\n",
    "ax.imshow(single_cell_mask,cmap='Greys')\n",
    "cell_size = single_cell_mask.sum()\n",
    "print(cell_size)"
   ]
  },
  {
   "cell_type": "code",
   "execution_count": null,
   "metadata": {
    "id": "_FVoevuySUnO"
   },
   "outputs": [],
   "source": [
    "# Plotting the contours for all cells\n",
    "f,ax = plt.subplots()\n",
    "ax.imshow(image, cmap='Greys')\n",
    "for contour in contours:\n",
    "  ax.plot(contour[:,1],contour[:,0],'r',alpha=.5)\n",
    "ax.set_xlim([0,200])\n",
    "ax.set_ylim([50,250])"
   ]
  },
  {
   "cell_type": "code",
   "execution_count": null,
   "metadata": {
    "id": "AVd355f1TZL8"
   },
   "outputs": [],
   "source": [
    "def get_cell_size(contour, image):\n",
    "  '''\n",
    "  This function is intended to calculate cell size from a contour.\n",
    "  '''\n",
    "  single_cell_mask = np.zeros(image.shape)\n",
    "  rr, cc = polygon(contour[:,0], contour[:,1])\n",
    "  single_cell_mask[rr,cc] = 1\n",
    "  cell_size = single_cell_mask.sum()\n",
    "  return cell_size"
   ]
  },
  {
   "cell_type": "code",
   "execution_count": null,
   "metadata": {
    "id": "FSRvE002R7BK"
   },
   "outputs": [],
   "source": [
    "# Making a list with the cell size for each cell.\n",
    "all_cell_sizes = []\n",
    "for contour in contours:\n",
    "  all_cell_sizes.append(get_cell_size(contour, image))"
   ]
  },
  {
   "cell_type": "code",
   "execution_count": null,
   "metadata": {
    "id": "b8wTAQFeXa0S"
   },
   "outputs": [],
   "source": [
    "# Plotting an histogram with the cell size\n",
    "_ = plt.hist(all_cell_sizes, bins=40,color=[0.5,0.5,0.5] )\n",
    "plt.xlabel('cell size (pixels)')\n",
    "plt.ylabel('# of cells')\n",
    "plt.show()"
   ]
  },
  {
   "cell_type": "markdown",
   "metadata": {
    "id": "qCWrJ0dkJg3w"
   },
   "source": [
    "#Cellpose"
   ]
  },
  {
   "cell_type": "markdown",
   "metadata": {
    "id": "Bsmieh02P066"
   },
   "source": [
    "The [CellPose](https://www.nature.com/articles/s41592-020-01018-x) algorithm uses a [U-Net approach](https://arxiv.org/pdf/1505.04597.pdf), but is a generalist algorithm that can work with a wide variety of cell types. Published in 2021.  ~ 360 citations."
   ]
  },
  {
   "cell_type": "markdown",
   "metadata": {
    "id": "3rVGFURFJi7w"
   },
   "source": [
    "<img src= https://github.com/MunskyGroup/uqbio2022/raw/master/files/files_image_processing/module_1_2/images/Slide9.png alt=\"drawing\" width=\"1200\"/>"
   ]
  },
  {
   "cell_type": "markdown",
   "metadata": {
    "id": "WJFYtPtWJmsM"
   },
   "source": [
    "<img src= https://github.com/MunskyGroup/uqbio2022/raw/master/files/files_image_processing/module_1_2/images/Slide10.png alt=\"drawing\" width=\"1200\"/>"
   ]
  },
  {
   "cell_type": "markdown",
   "metadata": {
    "id": "4wBGaW6q214I"
   },
   "source": [
    "One of the biggest problems in single-cell segmentation is the limited number of images that are needed to traing a machine learning algorithm."
   ]
  },
  {
   "cell_type": "markdown",
   "metadata": {
    "id": "09v-glM7Jorc"
   },
   "source": [
    "<img src= https://github.com/MunskyGroup/uqbio2022/raw/master/files/files_image_processing/module_1_2/images/Slide11.png alt=\"drawing\" width=\"1200\"/>"
   ]
  },
  {
   "cell_type": "markdown",
   "metadata": {
    "id": "jhB6kIiIJse9"
   },
   "source": [
    "<img src= https://github.com/MunskyGroup/uqbio2022/raw/master/files/files_image_processing/module_1_2/images/Slide12.png alt=\"drawing\" width=\"1200\"/>"
   ]
  },
  {
   "cell_type": "markdown",
   "metadata": {
    "id": "ao89kvM2KS7K"
   },
   "source": [
    "### Segmenting a complete cell using Cellpose"
   ]
  },
  {
   "cell_type": "code",
   "execution_count": null,
   "metadata": {
    "id": "iBmNsx7YLNFR"
   },
   "outputs": [],
   "source": [
    "# Downloading a test image\n",
    "# Hela Cells. Linda's Publication.\n",
    "urls = ['https://ndownloader.figshare.com/files/26751209']\n",
    "urllib.request.urlretrieve(urls[0], './image_cell.tif')\n",
    "figName = './image_cell.tif'\n",
    "image_complete = imread(figName) "
   ]
  },
  {
   "cell_type": "code",
   "execution_count": null,
   "metadata": {
    "id": "oNATVwuSHT2T"
   },
   "outputs": [],
   "source": [
    "print('image shape: ', image_complete.shape)"
   ]
  },
  {
   "cell_type": "code",
   "execution_count": null,
   "metadata": {
    "id": "0hRt-bNjHaJe"
   },
   "outputs": [],
   "source": [
    "# Plotting each one of the 3 colors independently\n",
    "fig, ax = plt.subplots(1,3, figsize=(20, 7))\n",
    "ax[0].imshow(image_complete[0,:,:,0],cmap='Reds_r')\n",
    "ax[1].imshow(image_complete[0,:,:,1],cmap='Greens_r')\n",
    "ax[2].imshow(image_complete[0,:,:,2],cmap='Blues_r')\n",
    "ax[0].axis('off')\n",
    "ax[1].axis('off')\n",
    "ax[2].axis('off')\n",
    "plt.show()"
   ]
  },
  {
   "cell_type": "markdown",
   "metadata": {
    "id": "CSKrmickLUH8"
   },
   "source": [
    "Installing cellpose"
   ]
  },
  {
   "cell_type": "code",
   "execution_count": null,
   "metadata": {
    "id": "olIN6WbyKDkC"
   },
   "outputs": [],
   "source": [
    "%%capture\n",
    "!pip install opencv-python-headless==4.1.2.30\n",
    "!pip install cellpose==1.0\n",
    "from cellpose import models\n",
    "from cellpose import plot"
   ]
  },
  {
   "cell_type": "code",
   "execution_count": null,
   "metadata": {
    "id": "v4LNS2GcH1cm"
   },
   "outputs": [],
   "source": [
    "img= image_complete[0,:,:,0]"
   ]
  },
  {
   "cell_type": "code",
   "execution_count": null,
   "metadata": {
    "id": "KzFpTxTkKJw5"
   },
   "outputs": [],
   "source": [
    "# RUN CELLPOSE\n",
    "use_GPU = True # models.use_gpu()\n",
    "# DEFINE CELLPOSE MODEL\n",
    "model = models.Cellpose(gpu=use_GPU, model_type='cyto') # model_type='cyto' or model_type='nuclei'\n",
    "# Running the models\n",
    "masks, flows, styles, diams = model.eval(img, diameter=200, flow_threshold=None, channels=[0,0],omni=True)\n",
    "plt.imshow(masks,cmap='Greys')\n",
    "plt.show()"
   ]
  },
  {
   "cell_type": "code",
   "execution_count": null,
   "metadata": {
    "id": "Lqo9hVc0Gn42"
   },
   "outputs": [],
   "source": [
    "#help(model.eval)"
   ]
  },
  {
   "cell_type": "code",
   "execution_count": null,
   "metadata": {
    "id": "pScQmphVKC_J"
   },
   "outputs": [],
   "source": [
    "# Downloading a test image\n",
    "# Hela Cells. Linda's Publication.\n",
    "urls = ['https://ndownloader.figshare.com/files/26751203']\n",
    "urllib.request.urlretrieve(urls[0], './image_cell.tif')\n",
    "figName = './image_cell.tif'\n",
    "image_complete = imread(figName) "
   ]
  },
  {
   "cell_type": "code",
   "execution_count": null,
   "metadata": {
    "id": "KahlyKSRKDEw"
   },
   "outputs": [],
   "source": [
    "img= image_complete[0,:,:,2]"
   ]
  },
  {
   "cell_type": "code",
   "execution_count": null,
   "metadata": {
    "id": "dCqjbxE6KDNG"
   },
   "outputs": [],
   "source": [
    "# RUN CELLPOSE\n",
    "use_GPU = True # models.use_gpu()\n",
    "# DEFINE CELLPOSE MODEL\n",
    "model = models.Cellpose(gpu=use_GPU, model_type='cyto') # model_type='cyto' or model_type='nuclei'\n",
    "# Running the models\n",
    "masks, flows, styles, diams = model.eval(img, diameter=200, flow_threshold=None, channels=[0,0],omni=True)\n",
    "plt.imshow(masks,cmap='Greys')\n",
    "plt.show()"
   ]
  },
  {
   "cell_type": "markdown",
   "metadata": {
    "id": "5BX0P_YUKQjv"
   },
   "source": [
    "### Segmenting nucleus and cytosol"
   ]
  },
  {
   "cell_type": "code",
   "execution_count": null,
   "metadata": {
    "id": "aGA4fiI3KQBc"
   },
   "outputs": [],
   "source": [
    "# Downloading a FISH image\n",
    "urls = ['https://github.com/MunskyGroup/FISH_Processing/raw/main/dataBases/test_data/ROI001_XY1620755243_Z00_T0_merged.tif']\n",
    "print('Downloading file...')\n",
    "urllib.request.urlretrieve(urls[0], './ROI001_XY1620755243_Z00_T0_merged.tif')\n",
    "figName = './ROI001_XY1620755243_Z00_T0_merged.tif'\n",
    "images_FISH = imread(figName) \n",
    "print('File Downloaded!')"
   ]
  },
  {
   "cell_type": "code",
   "execution_count": null,
   "metadata": {
    "id": "VnFCgfAjLksr"
   },
   "outputs": [],
   "source": [
    "# The image has the following dimensions [Z,Y,X,C]\n",
    "print(images_FISH.shape)"
   ]
  },
  {
   "cell_type": "code",
   "execution_count": null,
   "metadata": {
    "id": "OrFj_DcgLpsw"
   },
   "outputs": [],
   "source": [
    "# For segmentation, we will select the central  slice.\n",
    "image_to_segment= images_FISH[10,:,:,:]"
   ]
  },
  {
   "cell_type": "code",
   "execution_count": null,
   "metadata": {
    "id": "4SathPUrLrvI"
   },
   "outputs": [],
   "source": [
    "fig, ax = plt.subplots(1,3, figsize=(20, 10))\n",
    "ax[0].imshow(images_FISH[10,:,:,0],cmap='Spectral_r')\n",
    "ax[0].set(title='Ch0 - DAPI')\n",
    "ax[1].imshow(images_FISH[10,:,:,1],cmap='Spectral_r')\n",
    "ax[1].set(title= 'Ch1 - FISH vs MS2  reporter gene' )\n",
    "ax[2].imshow(images_FISH[10,:,:,2],cmap='Spectral_r')\n",
    "ax[2].set(title= 'Ch1 - FISH vs GAPDH' )\n",
    "plt.show()"
   ]
  },
  {
   "cell_type": "code",
   "execution_count": null,
   "metadata": {
    "id": "Ba6OsEJ0Lth_"
   },
   "outputs": [],
   "source": [
    "# Segmenting the nucleus\n",
    "img_nuc = images_FISH[10,:,:,0:2]\n",
    "print(img_nuc.shape)"
   ]
  },
  {
   "cell_type": "markdown",
   "metadata": {
    "id": "ZQQyWHeoVgz2"
   },
   "source": [
    "To get information about the parameters needed by the library\n",
    "\n",
    "\n",
    "```\n",
    "help(model.eval)\n",
    "```\n",
    "\n",
    "```\n",
    "help(models.Cellpose)\n",
    "```"
   ]
  },
  {
   "cell_type": "code",
   "execution_count": null,
   "metadata": {
    "id": "3AjZyaDzLtyO"
   },
   "outputs": [],
   "source": [
    "# RUN CELLPOSE\n",
    "use_GPU = True # models.use_gpu()\n",
    "# DEFINE CELLPOSE MODEL\n",
    "model = models.Cellpose(gpu=use_GPU, model_type='nuclei') # model_type='cyto' or model_type='nuclei'\n",
    "# Running the models\n",
    "masks_nuc, flows, styles, diams = model.eval(img_nuc, diameter=100, flow_threshold=None, channels=[0,1], net_avg=True, augment=True)\n",
    "\n",
    "# Plotting the results\n",
    "plt.imshow(masks_nuc,cmap='Greys_r')\n",
    "plt.show()"
   ]
  },
  {
   "cell_type": "code",
   "execution_count": null,
   "metadata": {
    "id": "Snd7b7ZgLyZN"
   },
   "outputs": [],
   "source": [
    "# Segmenting the nucleus\n",
    "img_cyto = images_FISH[10,:,:,0:3]\n",
    "print(img_cyto.shape)"
   ]
  },
  {
   "cell_type": "code",
   "execution_count": null,
   "metadata": {
    "id": "h-khEZswLyj2"
   },
   "outputs": [],
   "source": [
    "# RUN CELLPOSE\n",
    "use_GPU = True # models.use_gpu()\n",
    "# DEFINE CELLPOSE MODEL\n",
    "model = models.Cellpose(gpu=use_GPU, model_type='cyto2') # model_type='cyto', 'cyto2' or model_type='nuclei'\n",
    "# Running the models\n",
    "masks_cyto, flows, styles, diams = model.eval(img_cyto, diameter=200, flow_threshold=None, channels=[0,2], net_avg=True, augment=True)\n",
    "\n",
    "# Plotting the results\n",
    "plt.imshow(masks_cyto,cmap='Greys_r')\n",
    "plt.show()"
   ]
  },
  {
   "cell_type": "markdown",
   "metadata": {
    "id": "5QtsGJ6ADsjS"
   },
   "source": [
    "## Calculating the [center of mass](https://www.khanacademy.org/science/physics/linear-momentum/center-of-mass/a/what-is-center-of-mass) for a given cell assuming that the cell is a 2D object.  Assuming  $A = M$.\n",
    "\n",
    "For a distribution of mass:\n",
    "\n",
    "$x_{CM} = \\int\\limits_0^M \\frac{x \\,dm}{M}$  ,   \n",
    "$y_{CM} = \\int\\limits_0^M \\frac{y \\,dm}{M}$  ,\n",
    "\n",
    "\n",
    "\n",
    "where $M$ is the total mass in the system.\n"
   ]
  },
  {
   "cell_type": "code",
   "execution_count": null,
   "metadata": {
    "id": "Duyb3qleDsug"
   },
   "outputs": [],
   "source": [
    "# Calculaitng  the center of mass for a selected cell.\n",
    "selected_mask_cyto = np.where(masks_cyto==1,1,0) # Selecting only one mask.    \n",
    "y_indexes = np.nonzero(selected_mask_cyto)[0] # Detecting the indexes for all x axis\n",
    "x_indexes = np.nonzero(selected_mask_cyto)[1] # Detecting the indexes for all y axis\n",
    "\n",
    "center_mass_x = int ( np.sum(x_indexes) / np.sum(selected_mask_cyto) )\n",
    "center_mass_y = int( np.sum(y_indexes) / np.sum(selected_mask_cyto) )\n",
    "\n",
    "print('The center of mass is located in y: ' , center_mass_y,'x: ' ,  center_mass_x) \n",
    "\n",
    "# Plotting the selected cell and its center of mass\n",
    "plt.imshow(selected_mask_cyto,cmap='Greys_r')\n",
    "plt.plot(center_mass_x,center_mass_y,'r+',markersize=12)\n",
    "plt.show()"
   ]
  },
  {
   "cell_type": "markdown",
   "metadata": {
    "id": "7DbWTFL_M8vT"
   },
   "source": [
    "# Practice Problems"
   ]
  },
  {
   "cell_type": "markdown",
   "metadata": {
    "id": "Z3njEDX1M_ZS"
   },
   "source": [
    "## Single Cell Segmentation - Workbook Completion Requirements:##\n",
    "To obtain credit for this lesson, each student should complete all blanks for questions Q1-Q6.\n",
    "\n",
    "To obtain a certificate for the course, you must complete a minimum of five notebooks from Modules 1-4 (please note that preliminary notebooks from Module 0 will not be accepted) and submit them together via email before August 15, 2022. Please submit your completed notebooks to qbio_summer_school@colostate.edu"
   ]
  },
  {
   "cell_type": "markdown",
   "metadata": {
    "id": "1t1B-aQ9NNm2"
   },
   "source": [
    "## Easy Questions"
   ]
  },
  {
   "cell_type": "markdown",
   "metadata": {
    "id": "qe6svfxNzv3d"
   },
   "source": [
    "Using the video accessible in this link 'https://ndownloader.figshare.com/files/26751209', solve the following questions:\n",
    "\n"
   ]
  },
  {
   "cell_type": "markdown",
   "metadata": {
    "id": "GqQNqBGzNK3Y"
   },
   "source": [
    "* Q1. Plot the average intensity in the cell for all time points.\n"
   ]
  },
  {
   "cell_type": "code",
   "execution_count": null,
   "metadata": {
    "id": "wqxVMJFs5nkS"
   },
   "outputs": [],
   "source": [
    "# Downloading a test image\n",
    "urls = ['https://ndownloader.figshare.com/files/26751209']\n",
    "print('Downloading file...')\n",
    "figName = './image_cell.tif'\n",
    "urllib.request.urlretrieve(urls[0], figName)\n",
    "# Loading figure to the notebook\n",
    "imgs_2 = imread(figName) \n",
    "print('File is downloaded and accessible in: ... /contents/image_cell.tif ')"
   ]
  },
  {
   "cell_type": "code",
   "execution_count": null,
   "metadata": {
    "id": "TmP8HpdjK_YE"
   },
   "outputs": [],
   "source": [
    "print(imgs_2.shape)"
   ]
  },
  {
   "cell_type": "code",
   "execution_count": null,
   "metadata": {
    "id": "OXJI3r1dIuKg"
   },
   "outputs": [],
   "source": [
    "# Need a mask for the cell -- tels us which pixels are inside the cell.\n",
    "# RUN CELLPOSE\n",
    "use_GPU = True # models.use_gpu()\n",
    "# DEFINE CELLPOSE MODEL\n",
    "model = models.Cellpose(gpu=use_GPU, model_type='cyto') # model_type='cyto' or model_type='nuclei'\n",
    "# Running the models\n",
    "\n",
    "masks, flows, styles, diams = model.eval(imgs_2[0,:,:,:], diameter=200, min_size=1000, channels=[0,0])\n",
    "plt.imshow(masks,cmap='Greys')\n",
    "plt.show()\n",
    "\n",
    "# Make a list with all the masks separated out\n",
    "masks_list = []\n",
    "for i in range(np.max(masks)+1):\n",
    "  masks_list.append(masks==i)\n",
    "\n",
    "# Plot a particular mask\n",
    "plt.imshow(masks_list[2],cmap='Greys')\n",
    "plt.show()\n",
    "\n",
    "# Plot an image but only showing the part in the mask\n",
    "plt.imshow(imgs_2[0,:,:,0]*masks_list[2],cmap='Greys')\n",
    "plt.show()\n",
    "\n",
    "# Compute and plot the mean intensities over time of for each color and each cell.\n",
    "fig, ax = plt.subplots(1,3, figsize=(20, 5))\n",
    "for k in range(3): \n",
    "  matrix_intensity_in_time = np.zeros((3,imgs_2.shape[0]))\n",
    "  for i in range(imgs_2.shape[0]):\n",
    "    for j in range(3):\n",
    "      matrix_intensity_in_time[j,i] = np.sum(imgs_2[i,:,:,j]*masks_list[k+1])/np.sum(masks_list[k+1])\n",
    "  ax[k].set_prop_cycle(color=['red', 'green', 'blue'])\n",
    "  ax[k].plot(matrix_intensity_in_time.T/matrix_intensity_in_time[:,0])\n",
    "  plt.legend(['red','green','blue'])"
   ]
  },
  {
   "cell_type": "markdown",
   "metadata": {
    "id": "vn7qDzrgMnV8"
   },
   "source": [
    "* Q2. Calculate the pixel intensity distribution inside the cell for  time point 0.\n"
   ]
  },
  {
   "cell_type": "code",
   "execution_count": null,
   "metadata": {
    "id": "9yetfq8uMnf1"
   },
   "outputs": [],
   "source": [
    "# Add your code with your response here:\n",
    "\n",
    "# Applying the mask to original image\n",
    "selected_frame = 0 \n",
    "selected_channel =0 \n",
    "image_with_mask = imgs_2[selected_frame,:,:,selected_channel]*masks_list[2]\n",
    "plt.imshow(image_with_mask)\n",
    "\n",
    "# Selecting non-zero pixels. The pixeles inside the mask.\n",
    "non_zero_pixels = image_with_mask[image_with_mask>0]\n",
    "non_zero_pixels.shape\n",
    "\n",
    "# Plotting the intensity distribution for a specific time point and an specific channel\n",
    "plt.figure(figsize=(7,7))\n",
    "plt.hist(non_zero_pixels, bins=80,color='orangered')\n",
    "plt.xlabel('Value')\n",
    "plt.ylabel('Frequency')\n",
    "plt.title('Intensity Histogram')\n",
    "plt.show()\n"
   ]
  },
  {
   "cell_type": "markdown",
   "metadata": {
    "id": "CWELKV1aMwPv"
   },
   "source": [
    "* Q3. Calculate a mask for every frame (time point) in the video."
   ]
  },
  {
   "cell_type": "code",
   "execution_count": null,
   "metadata": {
    "id": "7EiYsCytMxuR"
   },
   "outputs": [],
   "source": [
    "# Add your code with your response here:\n",
    "\n",
    "# Need a mask for the cell -- tels us which pixels are inside the cell.\n",
    "# RUN CELLPOSE\n",
    "use_GPU = True # models.use_gpu()\n",
    "# DEFINE CELLPOSE MODEL\n",
    "model = models.Cellpose(gpu=use_GPU, model_type='cyto') # model_type='cyto' or model_type='nuclei'\n",
    "\n",
    "# Running the model for all  frames\n",
    "masks_for_all_frames, _, _, _ = model.eval(imgs_2[:,:,:,:], diameter=200, min_size=1000, channels=[0,0])\n",
    "\n",
    "# Notice that the output is a tensor with  shape [T,Y,X]\n",
    "print(masks_for_all_frames.shape)\n",
    "\n",
    "# Plotting the  masks founds for every frame.\n",
    "number_frames= imgs_2.shape[0]\n",
    "fig, ax = plt.subplots(nrows=1,ncols=number_frames, figsize=(20, 5))\n",
    "for i in range(number_frames):\n",
    "  ax[i].imshow(masks_for_all_frames[i,:,:])\n",
    "  ax[i].axis('off')"
   ]
  },
  {
   "cell_type": "markdown",
   "metadata": {
    "id": "EsGveUTTNSdK"
   },
   "source": [
    "## Moderate Questions"
   ]
  },
  {
   "cell_type": "markdown",
   "metadata": {
    "id": "KvN7-2zJBe0e"
   },
   "source": [
    "Using the FISH image accessible in this link 'https://github.com/MunskyGroup/FISH_Processing/raw/main/dataBases/test_data/ROI002_XY1620755646_Z00_T0_merged.tif', solve the following questions:"
   ]
  },
  {
   "cell_type": "code",
   "execution_count": null,
   "metadata": {
    "id": "ilpAxHrW6bQD"
   },
   "outputs": [],
   "source": [
    "# Downloading a FISH image\n",
    "urls = ['https://github.com/MunskyGroup/FISH_Processing/raw/main/dataBases/test_data/ROI002_XY1620755646_Z00_T0_merged.tif']\n",
    "print('Downloading file...')\n",
    "urllib.request.urlretrieve(urls[0], './ROI001_XY1620755243_Z00_T0_merged.tif')\n",
    "figName = './ROI001_XY1620755243_Z00_T0_merged.tif'\n",
    "images_FISH = imread(figName) \n",
    "print('File Downloaded!')"
   ]
  },
  {
   "cell_type": "markdown",
   "metadata": {
    "id": "khCPDZOmNWxe"
   },
   "source": [
    "* Q4. Using a maximum projection in Z, calculate the mask for the nuclei and cytosol in the FISH image."
   ]
  },
  {
   "cell_type": "code",
   "execution_count": null,
   "metadata": {
    "id": "T4U5aOhONW62"
   },
   "outputs": [],
   "source": [
    "# Add your code with your response here:\n",
    "print('The shape of the FISH image is : ', images_FISH.shape)  #[Z,Y,X,C]\n",
    "\n",
    "# Inspecting the image to determine the channel with nucleus and cytosol\n",
    "fig, ax = plt.subplots(1,3, figsize=(20, 10))\n",
    "ax[0].imshow(images_FISH[10,:,:,0],cmap='Spectral_r')\n",
    "ax[0].set(title='Ch0 - DAPI')\n",
    "ax[1].imshow(images_FISH[10,:,:,1],cmap='Spectral_r')\n",
    "ax[1].set(title= 'Ch1 - FISH vs MS2  reporter gene' )\n",
    "ax[2].imshow(images_FISH[10,:,:,2],cmap='Spectral_r')\n",
    "ax[2].set(title= 'Ch1 - FISH vs GAPDH' )\n",
    "plt.show()\n",
    "\n",
    "# From the image we could determine \n",
    "channel_nucleus = 0\n",
    "channel_cytosol = 2\n",
    "\n",
    "# Creating  maximum projections for channel 0 and channel 2.\n",
    "max_z_projection_nucleus = np.max(images_FISH[:,:,:,channel_nucleus], axis=0)\n",
    "max_z_projection_cytosol = np.max(images_FISH[:,:,:,channel_nucleus], axis=0)\n",
    "\n",
    "# Notice that this projection reduced the dimenssions to\n",
    "print('Dimensions in tensor with nucleus image : ' , max_z_projection_nucleus.shape)\n",
    "print('Dimensions in tensor with cytosol image : ' , max_z_projection_cytosol.shape)\n",
    "\n",
    "# Using cellpose\n",
    "\n",
    "# NUCLEUS\n",
    "model = models.Cellpose(gpu=use_GPU, model_type='nuclei') # model_type='cyto' or model_type='nuclei'\n",
    "masks_nuc, _, _, _ = model.eval(max_z_projection_nucleus, diameter=100, flow_threshold=None, channels=[0,0],  min_size=1000,net_avg=True, augment=True)\n",
    "plt.title('Nucleus segmentation')\n",
    "plt.imshow(masks_nuc,cmap='Greys_r')\n",
    "plt.show()\n",
    "\n",
    "# CYTOSOL\n",
    "model = models.Cellpose(gpu=use_GPU, model_type='cyto2') # model_type='cyto', 'cyto2' or model_type='nuclei'\n",
    "masks_cyto, _, _, _ = model.eval(max_z_projection_cytosol, diameter=200, flow_threshold=None, channels=[0,2],  min_size=1000,net_avg=True, augment=True)\n",
    "plt.imshow(masks_cyto,cmap='Greys_r')\n",
    "plt.title('Cytosol segmentation')\n",
    "plt.show()\n",
    "\n"
   ]
  },
  {
   "cell_type": "markdown",
   "metadata": {
    "id": "3FY09sKiNXJJ"
   },
   "source": [
    "* Q5.  Calculate the average area for the cytsol (not including the nucleus) for all cells in the FISH image."
   ]
  },
  {
   "cell_type": "code",
   "execution_count": null,
   "metadata": {
    "id": "OIlEgjByNXSA"
   },
   "outputs": [],
   "source": [
    "# Add your code with your response here:\n",
    "\n",
    "\n",
    "\n"
   ]
  },
  {
   "cell_type": "markdown",
   "metadata": {
    "id": "BHiOmhIYN-BU"
   },
   "source": [
    "## Advanced  questions"
   ]
  },
  {
   "cell_type": "markdown",
   "metadata": {
    "id": "LUcR6v6TN14n"
   },
   "source": [
    "* Q6. Calculate the center of mass of each cell in the FISH image."
   ]
  },
  {
   "cell_type": "code",
   "execution_count": null,
   "metadata": {
    "id": "9RbANiSZOCRO"
   },
   "outputs": [],
   "source": [
    "# Add your code with your response here:\n",
    "number_masks = np.max(masks_cyto)\n",
    "list_center_mass =[]\n",
    "print('number cellls in image : ', number_masks)\n",
    "for i in range (1,number_masks+1):\n",
    "  # Calculaitng  the center of mass for a selected cell.\n",
    "  selected_mask_cyto = np.where(masks_cyto==i,1,0) # Selecting only one mask.    \n",
    "  y_indexes = np.nonzero(selected_mask_cyto)[0] # Detecting the indexes for all x axis\n",
    "  x_indexes = np.nonzero(selected_mask_cyto)[1] # Detecting the indexes for all y axis\n",
    "  center_mass_x = int ( np.sum(x_indexes) / np.sum(selected_mask_cyto) )\n",
    "  center_mass_y = int( np.sum(y_indexes) / np.sum(selected_mask_cyto) )\n",
    "  list_center_mass.append((center_mass_x,center_mass_y ) )\n",
    "  del y_indexes, x_indexes, selected_mask_cyto, center_mass_x, center_mass_y\n",
    "\n",
    "# Plotting the selected cell and its center of mass\n",
    "plt.figure(figsize=(7,7))\n",
    "plt.imshow(masks_cyto,cmap='Greys_r')\n",
    "for i in range(len(list_center_mass)):\n",
    "  plt.scatter(list_center_mass[i][0],list_center_mass[i][1],s=30)\n",
    "plt.show()"
   ]
  },
  {
   "cell_type": "markdown",
   "metadata": {
    "id": "dt8Z9U-IUZxm"
   },
   "source": [
    "* Q7. Make a widget that allows you to select different segmentation thresholds and apply the watershed algorithm to the image."
   ]
  },
  {
   "cell_type": "code",
   "execution_count": null,
   "metadata": {
    "id": "zVJc3uwEUaRe"
   },
   "outputs": [],
   "source": [
    "# Add your code with your response here:\n",
    "\n",
    "\n",
    "\n"
   ]
  },
  {
   "cell_type": "markdown",
   "metadata": {
    "id": "ugjw-hs2yBYY"
   },
   "source": [
    "# References"
   ]
  },
  {
   "cell_type": "markdown",
   "metadata": {
    "id": "pzGe4WvLx8sB"
   },
   "source": [
    "*  Image downloaded from https://figshare.com from publication: \"Forero-Quintero, Linda, William Raymond, Tetsuya Handa, Matthew Saxton, Tatsuya Morisaki, Hiroshi Kimura, Edouard Bertrand, Brian Munsky, and Timothy Stasevich. \"Live-cell imaging reveals the spatiotemporal organization of endogenous RNA polymerase II phosphorylation at a single gene.\" (2020).\"\n",
    "\n",
    "* \"Fox, Z.R., Fletcher, S., Fraisse, A., Aditya, C., Sosa-Carrillo, S., Gilles, S., Bertaux, F., Ruess, J. and Batt, G., 2021. MicroMator: Open and Flexible Software for Reactive Microscopy. bioRxiv. (2021)\""
   ]
  }
 ],
 "metadata": {
  "accelerator": "GPU",
  "colab": {
   "include_colab_link": true,
   "private_outputs": true,
   "provenance": []
  },
  "kernelspec": {
   "display_name": "Python 3 (ipykernel)",
   "language": "python",
   "name": "python3"
  },
  "language_info": {
   "codemirror_mode": {
    "name": "ipython",
    "version": 3
   },
   "file_extension": ".py",
   "mimetype": "text/x-python",
   "name": "python",
   "nbconvert_exporter": "python",
   "pygments_lexer": "ipython3",
   "version": "3.9.12"
  }
 },
 "nbformat": 4,
 "nbformat_minor": 4
}
